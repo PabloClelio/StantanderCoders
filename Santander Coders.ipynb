{
 "cells": [
  {
   "cell_type": "markdown",
   "id": "9da92960",
   "metadata": {},
   "source": [
    "# Aula 1"
   ]
  },
  {
   "cell_type": "code",
   "execution_count": null,
   "id": "f50943cf",
   "metadata": {},
   "outputs": [],
   "source": [
    "1"
   ]
  },
  {
   "cell_type": "code",
   "execution_count": null,
   "id": "11184a32",
   "metadata": {},
   "outputs": [],
   "source": [
    "type(1)"
   ]
  },
  {
   "cell_type": "code",
   "execution_count": null,
   "id": "8cae943a",
   "metadata": {},
   "outputs": [],
   "source": [
    "3+4"
   ]
  },
  {
   "cell_type": "markdown",
   "id": "e434df65",
   "metadata": {},
   "source": [
    "\n",
    "**Operadores Aritméticos**\n",
    "\n",
    "|     Operador    |     Nome                 |     Função                                                                       |\n",
    "|-----------------|--------------------------|----------------------------------------------------------------------------------|\n",
    "|     +           |     Adição               |     Realiza   a soma de ambos operandos.                                         |\n",
    "|     -           |     Subtração            |     Realiza   a subtração de ambos operandos.                                    |\n",
    "|     *           |     Multiplicação        |     Realiza   a multiplicação de ambos operandos.                                |\n",
    "|     /           |     Divisão              |     Realiza   a Divisão de ambos operandos.                                      |\n",
    "|     //          |     Divisão   inteira    |     Realiza   a divisão entre operandos e a parte decimal de ambos operandos.    |\n",
    "|     %           |     Módulo               |     Retorna   o resto da divisão de ambos operandos.                             |\n",
    "|     **          |     Exponenciação        |     Retorna   o resultado da elevação da potência pelo outro.                    |"
   ]
  },
  {
   "cell_type": "markdown",
   "id": "808d41a7",
   "metadata": {},
   "source": [
    "\n",
    "# Variáveis\n",
    "\n",
    "Variável é o nome dado ao tipo de conteúdo que pode apresentar diferentes valores enquanto o sistema está em execução. Tudo dependerá do comando do usuário e o tipo de operação que é realizado.\n",
    "\n",
    "Imagine que você conhece uma nova pessoa. A variável seria o lugar no seu cérebro no qual você guarda, por exemplo, o nome desta pessoa, ou seja, é alocado um espaço para armazenar esta informação e posteriormente é passado o valor referente aquele dado.\n",
    "\n",
    "`nome = \"Renata\"`\n",
    "\n",
    "## Tipos básicos\n",
    "\n",
    "Podemos ter informações relacionadas às outras pessoas como nome, idade e salário. Cada uma delas possui o que chamamos de tipos de variável. Os tipos de dados são os seguintes:"
   ]
  },
  {
   "cell_type": "code",
   "execution_count": null,
   "id": "9b5b1be2",
   "metadata": {},
   "outputs": [],
   "source": [
    "var = false"
   ]
  },
  {
   "cell_type": "code",
   "execution_count": null,
   "id": "4c7556e6",
   "metadata": {},
   "outputs": [],
   "source": [
    "not = 10"
   ]
  },
  {
   "cell_type": "code",
   "execution_count": null,
   "id": "0c9fe5d2",
   "metadata": {},
   "outputs": [],
   "source": [
    "and = 10"
   ]
  },
  {
   "cell_type": "code",
   "execution_count": null,
   "id": "21580ea6",
   "metadata": {},
   "outputs": [],
   "source": [
    "input()"
   ]
  },
  {
   "cell_type": "code",
   "execution_count": null,
   "id": "df4759e7",
   "metadata": {},
   "outputs": [],
   "source": [
    "input(\"Diga a sua idade\")"
   ]
  },
  {
   "cell_type": "code",
   "execution_count": null,
   "id": "9b504f15",
   "metadata": {},
   "outputs": [],
   "source": [
    "float(\"rwnr\")"
   ]
  },
  {
   "cell_type": "code",
   "execution_count": null,
   "id": "c15c1547",
   "metadata": {},
   "outputs": [],
   "source": [
    "int(\"00123\")"
   ]
  },
  {
   "cell_type": "code",
   "execution_count": null,
   "id": "00af1bb1",
   "metadata": {},
   "outputs": [],
   "source": [
    "idade = int(input('Insira sua idade'))"
   ]
  },
  {
   "cell_type": "code",
   "execution_count": null,
   "id": "36d63a86",
   "metadata": {},
   "outputs": [],
   "source": [
    "idade"
   ]
  },
  {
   "cell_type": "code",
   "execution_count": null,
   "id": "070fc652",
   "metadata": {},
   "outputs": [],
   "source": [
    "print() = 0"
   ]
  },
  {
   "cell_type": "code",
   "execution_count": null,
   "id": "c1917d3a",
   "metadata": {},
   "outputs": [],
   "source": [
    "print('Podemos pular linha com o \\n dessa forma ')"
   ]
  },
  {
   "cell_type": "code",
   "execution_count": null,
   "id": "d3734712",
   "metadata": {},
   "outputs": [],
   "source": [
    "print('\\t Serve pra que ?')"
   ]
  },
  {
   "cell_type": "code",
   "execution_count": null,
   "id": "c80d10f9",
   "metadata": {},
   "outputs": [],
   "source": [
    "x = 10\n",
    "x **= 4"
   ]
  },
  {
   "cell_type": "code",
   "execution_count": null,
   "id": "bab713a1",
   "metadata": {},
   "outputs": [],
   "source": [
    "x"
   ]
  },
  {
   "cell_type": "markdown",
   "id": "3a941e8f",
   "metadata": {},
   "source": [
    "Imagine que você está implementando um sistema para verificar se os alunos de uma turma estudantil passaram na disciplina ou não. Para isso solicite que o usuário insira as notas das 4 provas realizadas por um estudante e calcule a média. Após isso, emita uma resposta booleana (True ou False) se o estudante passou na disciplina pensando que a média mínima para aprovação é que seja pelo menos 5."
   ]
  },
  {
   "cell_type": "code",
   "execution_count": 4,
   "id": "a750b78c",
   "metadata": {},
   "outputs": [
    {
     "name": "stdout",
     "output_type": "stream",
     "text": [
      "Insira a nota da prova 1: 5\n",
      "Insira a nota da prova 2: 7\n",
      "Insira a nota da prova 3: 4\n",
      "Insira a nota da prova 4: 9\n",
      "True\n"
     ]
    }
   ],
   "source": [
    "nota_1 = float(input('Insira a nota da prova 1: '))\n",
    "nota_2 = float(input('Insira a nota da prova 2: '))\n",
    "nota_3 = float(input('Insira a nota da prova 3: '))\n",
    "nota_4 = float(input('Insira a nota da prova 4: '))\n",
    "\n",
    "media = (nota_1 + nota_2 + nota_3 + nota_4) / 4\n",
    "\n",
    "print(media >= 5)"
   ]
  },
  {
   "cell_type": "markdown",
   "id": "6ada81b1",
   "metadata": {},
   "source": [
    "Crie um algoritmo que calcule o IMC (índice de massa corporal). O IMC é calculado com a formula PESO/(ALTURA ^ 2). Para isso, coloque as informações nas variáveis e ao final apresente o resultado como no exemplo: \"O IMC é 18\""
   ]
  },
  {
   "cell_type": "code",
   "execution_count": 1,
   "id": "6a8d9fe5",
   "metadata": {},
   "outputs": [
    {
     "name": "stdout",
     "output_type": "stream",
     "text": [
      "Digite seu peso: 84.300\n",
      "Digite sua altura1.74\n",
      "O IMC é: 27.843836702338486\n"
     ]
    }
   ],
   "source": [
    "peso = float(input('Digite seu peso: '))\n",
    "altura = float(input('Digite sua altura'))\n",
    "\n",
    "imc = peso / altura ** 2\n",
    "\n",
    "print(f'O IMC é: {imc}')"
   ]
  },
  {
   "cell_type": "markdown",
   "id": "0ac25576",
   "metadata": {},
   "source": [
    "Escreva um algoritmo que calcule (x + y) * (x + y). Os valores de x e y devem ser inseridos pelo usuário"
   ]
  },
  {
   "cell_type": "code",
   "execution_count": 3,
   "id": "3c49bd11",
   "metadata": {},
   "outputs": [
    {
     "name": "stdout",
     "output_type": "stream",
     "text": [
      "Insira o valor de x: 2\n",
      "Insira o valor de y: 3\n",
      "O resultado da função é: 25.0\n"
     ]
    }
   ],
   "source": [
    "x = float(input(\"Insira o valor de x: \"))\n",
    "y = float(input(\"Insira o valor de y: \"))\n",
    "\n",
    "funcao_xy = (x + y) * (x + y)\n",
    "\n",
    "print(f\"O resultado da função é: {funcao_xy}\")"
   ]
  },
  {
   "cell_type": "code",
   "execution_count": null,
   "id": "0cf61dd4",
   "metadata": {},
   "outputs": [],
   "source": []
  },
  {
   "cell_type": "code",
   "execution_count": null,
   "id": "9a0ade26",
   "metadata": {},
   "outputs": [],
   "source": []
  },
  {
   "cell_type": "code",
   "execution_count": null,
   "id": "acf1a9a1",
   "metadata": {},
   "outputs": [],
   "source": []
  }
 ],
 "metadata": {
  "kernelspec": {
   "display_name": "Python 3 (ipykernel)",
   "language": "python",
   "name": "python3"
  },
  "language_info": {
   "codemirror_mode": {
    "name": "ipython",
    "version": 3
   },
   "file_extension": ".py",
   "mimetype": "text/x-python",
   "name": "python",
   "nbconvert_exporter": "python",
   "pygments_lexer": "ipython3",
   "version": "3.11.5"
  }
 },
 "nbformat": 4,
 "nbformat_minor": 5
}
